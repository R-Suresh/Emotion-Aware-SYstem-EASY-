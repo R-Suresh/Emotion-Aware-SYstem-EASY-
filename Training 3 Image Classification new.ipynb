{
 "cells": [
  {
   "cell_type": "code",
   "execution_count": 1,
   "metadata": {},
   "outputs": [],
   "source": [
    "#A model that takes human images and then classisifes them according to the emotion detected\n",
    "# detects only happy, sad and anger"
   ]
  },
  {
   "cell_type": "code",
   "execution_count": 19,
   "metadata": {},
   "outputs": [],
   "source": [
    "from __future__ import print_function\n",
    "import numpy as np\n",
    "import matplotlib.pyplot as plt\n",
    "%matplotlib inline\n",
    "import keras\n",
    "from keras.utils import to_categorical\n",
    "import os\n",
    "from keras.preprocessing.image import ImageDataGenerator, load_img\n",
    "from keras.preprocessing.image import img_to_array\n",
    "from keras.applications.imagenet_utils import decode_predictions\n",
    "import matplotlib.pyplot as plt\n",
    "%matplotlib inline\n",
    "from keras.applications import vgg16\n",
    "from keras.models import Sequential, load_model\n",
    "from keras.callbacks import ModelCheckpoint"
   ]
  },
  {
   "cell_type": "code",
   "execution_count": 20,
   "metadata": {},
   "outputs": [],
   "source": [
    "from keras.applications import VGG16\n",
    "\n",
    "vgg_conv = VGG16(weights='imagenet',\n",
    "                  include_top=False,\n",
    "                  input_shape=(224, 224, 3))"
   ]
  },
  {
   "cell_type": "code",
   "execution_count": 21,
   "metadata": {},
   "outputs": [
    {
     "name": "stdout",
     "output_type": "stream",
     "text": [
      "_________________________________________________________________\n",
      "Layer (type)                 Output Shape              Param #   \n",
      "=================================================================\n",
      "input_2 (InputLayer)         (None, 224, 224, 3)       0         \n",
      "_________________________________________________________________\n",
      "block1_conv1 (Conv2D)        (None, 224, 224, 64)      1792      \n",
      "_________________________________________________________________\n",
      "block1_conv2 (Conv2D)        (None, 224, 224, 64)      36928     \n",
      "_________________________________________________________________\n",
      "block1_pool (MaxPooling2D)   (None, 112, 112, 64)      0         \n",
      "_________________________________________________________________\n",
      "block2_conv1 (Conv2D)        (None, 112, 112, 128)     73856     \n",
      "_________________________________________________________________\n",
      "block2_conv2 (Conv2D)        (None, 112, 112, 128)     147584    \n",
      "_________________________________________________________________\n",
      "block2_pool (MaxPooling2D)   (None, 56, 56, 128)       0         \n",
      "_________________________________________________________________\n",
      "block3_conv1 (Conv2D)        (None, 56, 56, 256)       295168    \n",
      "_________________________________________________________________\n",
      "block3_conv2 (Conv2D)        (None, 56, 56, 256)       590080    \n",
      "_________________________________________________________________\n",
      "block3_conv3 (Conv2D)        (None, 56, 56, 256)       590080    \n",
      "_________________________________________________________________\n",
      "block3_pool (MaxPooling2D)   (None, 28, 28, 256)       0         \n",
      "_________________________________________________________________\n",
      "block4_conv1 (Conv2D)        (None, 28, 28, 512)       1180160   \n",
      "_________________________________________________________________\n",
      "block4_conv2 (Conv2D)        (None, 28, 28, 512)       2359808   \n",
      "_________________________________________________________________\n",
      "block4_conv3 (Conv2D)        (None, 28, 28, 512)       2359808   \n",
      "_________________________________________________________________\n",
      "block4_pool (MaxPooling2D)   (None, 14, 14, 512)       0         \n",
      "_________________________________________________________________\n",
      "block5_conv1 (Conv2D)        (None, 14, 14, 512)       2359808   \n",
      "_________________________________________________________________\n",
      "block5_conv2 (Conv2D)        (None, 14, 14, 512)       2359808   \n",
      "_________________________________________________________________\n",
      "block5_conv3 (Conv2D)        (None, 14, 14, 512)       2359808   \n",
      "_________________________________________________________________\n",
      "block5_pool (MaxPooling2D)   (None, 7, 7, 512)         0         \n",
      "=================================================================\n",
      "Total params: 14,714,688\n",
      "Trainable params: 14,714,688\n",
      "Non-trainable params: 0\n",
      "_________________________________________________________________\n",
      "None\n"
     ]
    }
   ],
   "source": [
    "print(vgg_conv.summary())"
   ]
  },
  {
   "cell_type": "code",
   "execution_count": 36,
   "metadata": {},
   "outputs": [],
   "source": [
    "train_dir = 'images/train_3_additional'\n",
    "evaluation_dir='images/evaluation_3_emotion'\n",
    "# there are 6 folders (classes) of images\n",
    "# each has 650 usable photos\n",
    "nTrain = 480 #620 x 3\n",
    "nEval= 180 #60 x 3\n",
    "#The next step takes a lot of time depending on your machine"
   ]
  },
  {
   "cell_type": "code",
   "execution_count": 37,
   "metadata": {},
   "outputs": [
    {
     "name": "stdout",
     "output_type": "stream",
     "text": [
      "Found 512 images belonging to 3 classes.\n"
     ]
    }
   ],
   "source": [
    "datagen = ImageDataGenerator(rescale=1./255)\n",
    "batch_size = 20\n",
    "\n",
    "train_features = np.zeros(shape=(nTrain, 7, 7, 512))\n",
    "train_labels = np.zeros(shape=(nTrain,3))\n",
    "#I HAVE 3 classes now\n",
    "\n",
    "train_generator = datagen.flow_from_directory(\n",
    "    train_dir,\n",
    "    target_size=(224, 224),\n",
    "    batch_size=batch_size,\n",
    "    class_mode='categorical',\n",
    "    shuffle=True)\n",
    "\n",
    "i = 0\n",
    "for inputs_batch, labels_batch in train_generator:\n",
    "    features_batch = vgg_conv.predict(inputs_batch)\n",
    "    train_features[i * batch_size : (i + 1) * batch_size] = features_batch\n",
    "    train_labels[i * batch_size : (i + 1) * batch_size] = labels_batch\n",
    "    i += 1\n",
    "    if i * batch_size >= nTrain:\n",
    "        break\n",
    "        \n",
    "train_features = np.reshape(train_features, (nTrain, 7 * 7 * 512))"
   ]
  },
  {
   "cell_type": "code",
   "execution_count": 24,
   "metadata": {},
   "outputs": [
    {
     "name": "stdout",
     "output_type": "stream",
     "text": [
      "Found 228 images belonging to 3 classes.\n"
     ]
    }
   ],
   "source": [
    "evaluation_features = np.zeros(shape=(nEval, 7, 7, 512))\n",
    "evaluation_labels = np.zeros(shape=(nEval,3))\n",
    "# 3 here as well\n",
    "\n",
    "evaluation_generator = datagen.flow_from_directory(\n",
    "    evaluation_dir,\n",
    "    target_size=(224, 224),\n",
    "    batch_size=batch_size,\n",
    "    class_mode='categorical',\n",
    "    shuffle=False)\n",
    "\n",
    "i = 0\n",
    "for inputs_batch, labels_batch in evaluation_generator:\n",
    "    features_batch = vgg_conv.predict(inputs_batch)\n",
    "    evaluation_features[i * batch_size : (i + 1) * batch_size] = features_batch\n",
    "    evaluation_labels[i * batch_size : (i + 1) * batch_size] = labels_batch\n",
    "    i += 1\n",
    "    if i * batch_size >= nEval:\n",
    "        break\n",
    "\n",
    "evaluation_features = np.reshape(evaluation_features, (nEval, 7 * 7 * 512))"
   ]
  },
  {
   "cell_type": "code",
   "execution_count": 25,
   "metadata": {},
   "outputs": [],
   "source": [
    "save_path='images/'"
   ]
  },
  {
   "cell_type": "code",
   "execution_count": 30,
   "metadata": {},
   "outputs": [],
   "source": [
    "from keras import models\n",
    "from keras import layers\n",
    "from keras import optimizers\n",
    "\n",
    "def build_model():\n",
    "    model = models.Sequential()\n",
    "    model.add(layers.Dense(512, activation='relu', input_dim=7 * 7 * 512))\n",
    "    model.add(layers.Dropout(0.5))\n",
    "    model.add(layers.Dense(3, activation='softmax'))\n",
    "\n",
    "    model.compile(optimizer=optimizers.RMSprop(lr=2e-4),\n",
    "                  loss='categorical_crossentropy',\n",
    "                  metrics=['acc'])\n",
    "    print(model.summary())\n",
    "    return model\n",
    "def train_model(model,reload_filename='NULL',save_best_only=True,batch_size=20,num_epochs=10):\n",
    "    if(save_best_only):\n",
    "        checkpointer = ModelCheckpoint(filepath=save_path + '/model-{epoch:02d}-{loss:.4f}.hdf5', verbose=1,monitor='val_acc', save_best_only=True, mode='auto')\n",
    "    else:\n",
    "        checkpointer = ModelCheckpoint(filepath=save_path + '/model-{epoch:02d}-{loss:.4f}.hdf5', verbose=1)\n",
    "    #period option in checkpointer -> after how many epochs to save the model\n",
    "    if(reload_filename!=\"NULL\"):\n",
    "            model = load_model(save_path + reload_filename)\n",
    "    model.fit(train_features,\n",
    "                    train_labels,\n",
    "                    epochs=num_epochs,\n",
    "                    batch_size=20,\n",
    "                    validation_data=(evaluation_features,evaluation_labels), callbacks=[checkpointer])\n",
    "    #model.save(save_path + \"final_model.hdf5\")"
   ]
  },
  {
   "cell_type": "code",
   "execution_count": 31,
   "metadata": {},
   "outputs": [
    {
     "name": "stdout",
     "output_type": "stream",
     "text": [
      "_________________________________________________________________\n",
      "Layer (type)                 Output Shape              Param #   \n",
      "=================================================================\n",
      "dense_3 (Dense)              (None, 512)               12845568  \n",
      "_________________________________________________________________\n",
      "dropout_2 (Dropout)          (None, 512)               0         \n",
      "_________________________________________________________________\n",
      "dense_4 (Dense)              (None, 3)                 1539      \n",
      "=================================================================\n",
      "Total params: 12,847,107\n",
      "Trainable params: 12,847,107\n",
      "Non-trainable params: 0\n",
      "_________________________________________________________________\n",
      "None\n"
     ]
    }
   ],
   "source": [
    "model=build_model()\n",
    "#reload_filename=\".hdf5\""
   ]
  },
  {
   "cell_type": "code",
   "execution_count": 38,
   "metadata": {},
   "outputs": [],
   "source": [
    "reload_filename=\"model-07-0.4975.hdf5\""
   ]
  },
  {
   "cell_type": "code",
   "execution_count": 39,
   "metadata": {},
   "outputs": [
    {
     "name": "stdout",
     "output_type": "stream",
     "text": [
      "Train on 480 samples, validate on 180 samples\n",
      "Epoch 1/10\n",
      "480/480 [==============================] - 7s 15ms/step - loss: 0.9268 - acc: 0.6083 - val_loss: 0.7483 - val_acc: 0.6111\n",
      "\n",
      "Epoch 00001: val_acc improved from -inf to 0.61111, saving model to images//model-01-0.9268.hdf5\n",
      "Epoch 2/10\n",
      "480/480 [==============================] - 6s 13ms/step - loss: 0.5077 - acc: 0.7896 - val_loss: 0.5252 - val_acc: 0.8944\n",
      "\n",
      "Epoch 00002: val_acc improved from 0.61111 to 0.89444, saving model to images//model-02-0.5077.hdf5\n",
      "Epoch 3/10\n",
      "480/480 [==============================] - 6s 13ms/step - loss: 0.3210 - acc: 0.8708 - val_loss: 0.6335 - val_acc: 0.7944\n",
      "\n",
      "Epoch 00003: val_acc did not improve from 0.89444\n",
      "Epoch 4/10\n",
      "480/480 [==============================] - 6s 13ms/step - loss: 0.2954 - acc: 0.8688 - val_loss: 0.7371 - val_acc: 0.8944\n",
      "\n",
      "Epoch 00004: val_acc did not improve from 0.89444\n",
      "Epoch 5/10\n",
      "480/480 [==============================] - 7s 14ms/step - loss: 0.2169 - acc: 0.9104 - val_loss: 0.8563 - val_acc: 0.8167\n",
      "\n",
      "Epoch 00005: val_acc did not improve from 0.89444\n",
      "Epoch 6/10\n",
      "480/480 [==============================] - 6s 13ms/step - loss: 0.1959 - acc: 0.9333 - val_loss: 1.4905 - val_acc: 0.5500\n",
      "\n",
      "Epoch 00006: val_acc did not improve from 0.89444\n",
      "Epoch 7/10\n",
      "480/480 [==============================] - 6s 13ms/step - loss: 0.1495 - acc: 0.9417 - val_loss: 0.8348 - val_acc: 0.9000\n",
      "\n",
      "Epoch 00007: val_acc improved from 0.89444 to 0.90000, saving model to images//model-07-0.1495.hdf5\n",
      "Epoch 8/10\n",
      "480/480 [==============================] - 7s 14ms/step - loss: 0.1834 - acc: 0.9333 - val_loss: 0.8088 - val_acc: 0.8778\n",
      "\n",
      "Epoch 00008: val_acc did not improve from 0.90000\n",
      "Epoch 9/10\n",
      "480/480 [==============================] - 7s 14ms/step - loss: 0.1172 - acc: 0.9562 - val_loss: 0.9392 - val_acc: 0.8778\n",
      "\n",
      "Epoch 00009: val_acc did not improve from 0.90000\n",
      "Epoch 10/10\n",
      "480/480 [==============================] - 7s 14ms/step - loss: 0.1234 - acc: 0.9521 - val_loss: 0.9226 - val_acc: 0.9000\n",
      "\n",
      "Epoch 00010: val_acc did not improve from 0.90000\n"
     ]
    }
   ],
   "source": [
    "train_model(model,reload_filename=reload_filename)"
   ]
  },
  {
   "cell_type": "code",
   "execution_count": 40,
   "metadata": {},
   "outputs": [
    {
     "name": "stdout",
     "output_type": "stream",
     "text": [
      "180/180 [==============================] - 0s 2ms/step\n",
      "Accuracy: 90.00%\n"
     ]
    }
   ],
   "source": [
    "def test_model_accuracy(filename):\n",
    "    model = load_model(\"images/\" + filename)\n",
    "    scores = model.evaluate(evaluation_features,evaluation_labels, verbose=1)\n",
    "    print(\"Accuracy: %.2f%%\" % (scores[1]*100))\n",
    "filename=\"model-07-0.1495.hdf5\"\n",
    "#change according to the file generated\n",
    "test_model_accuracy(filename)"
   ]
  },
  {
   "cell_type": "code",
   "execution_count": 22,
   "metadata": {},
   "outputs": [],
   "source": [
    "#expand dataset; Try training a fresh model; Then test accuracy; Then try alternatives to VGG\n",
    "#Stick to 3 emotions\n",
    "#now expand dataset\n",
    "#problem is that the different datasets are of different sizes, so how do you bring them all to the same size\n",
    "#also how do you bring my pictures to the front\n",
    "\n",
    "#now new option do you want to only train with the images you took ?\n",
    "#yup"
   ]
  }
 ],
 "metadata": {
  "kernelspec": {
   "display_name": "Python 3",
   "language": "python",
   "name": "python3"
  },
  "language_info": {
   "codemirror_mode": {
    "name": "ipython",
    "version": 3
   },
   "file_extension": ".py",
   "mimetype": "text/x-python",
   "name": "python",
   "nbconvert_exporter": "python",
   "pygments_lexer": "ipython3",
   "version": "3.6.6"
  }
 },
 "nbformat": 4,
 "nbformat_minor": 2
}
